{
 "cells": [
  {
   "cell_type": "code",
   "execution_count": null,
   "id": "25a950e5-fcce-4989-8cc7-4e0ffda8a862",
   "metadata": {},
   "outputs": [],
   "source": []
  }
 ],
 "metadata": {
  "kernelspec": {
   "display_name": "Python 3 (ipykernel)",
   "language": "python",
   "name": "python3"
  },
  "language_info": {
   "name": ""
  }
 },
 "nbformat": 4,
 "nbformat_minor": 5
}
